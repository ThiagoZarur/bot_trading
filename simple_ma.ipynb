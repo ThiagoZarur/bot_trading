{
 "cells": [
  {
   "cell_type": "code",
   "execution_count": 1,
   "metadata": {},
   "outputs": [],
   "source": [
    "import pandas as pd\n",
    "import ccxt\n",
    "from binance.client import Client\n",
    "import numpy as np\n",
    "import matplotlib.pyplot as plt\n",
    "import seaborn as sns\n",
    "import talib\n",
    "from datetime import datetime, timedelta\n",
    "from backtesting import Strategy, Backtest\n",
    "from backtesting.lib import crossover\n",
    "from backtesting.test import SMA\n"
   ]
  },
  {
   "cell_type": "code",
   "execution_count": 2,
   "metadata": {},
   "outputs": [],
   "source": [
    "API_KEY = 'O8X3LMqT928iS3jAV1EwM2uwSedUkWEigt2TELCUJUfdhKT3zWVgxExAWCJrUKe5'\n",
    "API_SECRET = 'eNQIdMOA9FieSiQh1jK2JSwK9tNERiSpVNRLQoKC6a1vqqmwG2JNMgbUs69O4IhE'\n",
    "client = Client(API_KEY,API_SECRET)"
   ]
  },
  {
   "cell_type": "code",
   "execution_count": 3,
   "metadata": {},
   "outputs": [],
   "source": [
    "#Creating DataFrame using Binance, data of BTC/USDT\n",
    "\n",
    "# exchange = ccxt.binance()\n",
    "symbol = 'ETH/USDT'\n",
    "timeframe = '4h'\n",
    "ohlcv = client.get_historical_klines('ETHUSDT',Client.KLINE_INTERVAL_4HOUR,'16 Ago, 2017','06 Mar, 2022')\n",
    "to_df = pd.DataFrame(ohlcv)\n",
    "clean_df = to_df.drop(columns=[0,6,7,8,9,10,11])\n",
    "clean_df.columns = ['Open','High','Low','Close','Volume']\n",
    "clean_df['Open'] = pd.to_numeric(clean_df['Open'])\n",
    "clean_df['High'] = pd.to_numeric(clean_df['High'])\n",
    "clean_df['Low'] = pd.to_numeric(clean_df['Low'])\n",
    "clean_df['Close'] = pd.to_numeric(clean_df['Close'])\n",
    "clean_df['Volume'] = pd.to_numeric(clean_df['Volume'])\n"
   ]
  },
  {
   "cell_type": "code",
   "execution_count": 6,
   "metadata": {},
   "outputs": [
    {
     "name": "stdout",
     "output_type": "stream",
     "text": [
      "307.96\n"
     ]
    }
   ],
   "source": [
    "open = clean_df['Open']\n",
    "high = clean_df['High']\n",
    "low = clean_df['Low']\n",
    "close = clean_df['Close']\n",
    "\n",
    "\n",
    "candle_names = talib.get_function_groups()['Pattern Recognition']\n",
    "candles = [i for i in candle_names if i == 'CDLENGULFING' or i == 'CDLHAMMER' or i == 'CDLEVENINGSTAR' ]\n",
    "\n",
    "for candle in candles:\n",
    "    clean_df[candle] = getattr(talib, candle) (open,high,low,close)\n",
    "\n",
    "print(clean_df['Close'].iloc[0])"
   ]
  },
  {
   "cell_type": "code",
   "execution_count": 17,
   "metadata": {},
   "outputs": [
    {
     "name": "stderr",
     "output_type": "stream",
     "text": [
      "C:\\Users\\MI PC\\AppData\\Local\\Temp\\ipykernel_7128\\748020679.py:34: UserWarning: Data index is not datetime. Assuming simple periods, but `pd.DateTimeIndex` is advised.\n",
      "  bt = Backtest(clean_df,SMACross, cash = 10000, commission = 0.00, trade_on_close=False)\n"
     ]
    },
    {
     "name": "stdout",
     "output_type": "stream",
     "text": [
      "Start                                     0.0\n",
      "End                                    9954.0\n",
      "Duration                               9954.0\n",
      "Exposure Time [%]                   54.736313\n",
      "Equity Final [$]                    191801.14\n",
      "Equity Peak [$]                     390158.59\n",
      "Return [%]                          1818.0114\n",
      "Buy & Hold Return [%]              757.013898\n",
      "Return (Ann.) [%]                         0.0\n",
      "Volatility (Ann.) [%]                     NaN\n",
      "Sharpe Ratio                              NaN\n",
      "Sortino Ratio                             NaN\n",
      "Calmar Ratio                              0.0\n",
      "Max. Drawdown [%]                  -57.424489\n",
      "Avg. Drawdown [%]                   -8.580335\n",
      "Max. Drawdown Duration                 2302.0\n",
      "Avg. Drawdown Duration             112.267442\n",
      "# Trades                                840.0\n",
      "Win Rate [%]                        46.547619\n",
      "Best Trade [%]                      66.794315\n",
      "Worst Trade [%]                    -15.739238\n",
      "Avg. Trade [%]                       0.353378\n",
      "Max. Trade Duration                      96.0\n",
      "Avg. Trade Duration                  5.486905\n",
      "Profit Factor                        1.491203\n",
      "Expectancy [%]                       0.492183\n",
      "SQN                                  0.961169\n",
      "_strategy                            SMACross\n",
      "_equity_curve                      Equity ...\n",
      "_trades                        Size  Entry...\n",
      "dtype: object\n"
     ]
    },
    {
     "data": {
      "text/html": [
       "<div style=\"display: table;\"><div style=\"display: table-row;\"><div style=\"display: table-cell;\"><b title=\"bokeh.models.layouts.Row\">Row</b>(</div><div style=\"display: table-cell;\">id&nbsp;=&nbsp;'9923', <span id=\"10524\" style=\"cursor: pointer;\">&hellip;)</span></div></div><div class=\"10523\" style=\"display: none;\"><div style=\"display: table-cell;\"></div><div style=\"display: table-cell;\">align&nbsp;=&nbsp;'start',</div></div><div class=\"10523\" style=\"display: none;\"><div style=\"display: table-cell;\"></div><div style=\"display: table-cell;\">aspect_ratio&nbsp;=&nbsp;None,</div></div><div class=\"10523\" style=\"display: none;\"><div style=\"display: table-cell;\"></div><div style=\"display: table-cell;\">background&nbsp;=&nbsp;None,</div></div><div class=\"10523\" style=\"display: none;\"><div style=\"display: table-cell;\"></div><div style=\"display: table-cell;\">children&nbsp;=&nbsp;[GridBox(id='9920', ...), ToolbarBox(id='9922', ...)],</div></div><div class=\"10523\" style=\"display: none;\"><div style=\"display: table-cell;\"></div><div style=\"display: table-cell;\">cols&nbsp;=&nbsp;'auto',</div></div><div class=\"10523\" style=\"display: none;\"><div style=\"display: table-cell;\"></div><div style=\"display: table-cell;\">css_classes&nbsp;=&nbsp;[],</div></div><div class=\"10523\" style=\"display: none;\"><div style=\"display: table-cell;\"></div><div style=\"display: table-cell;\">disabled&nbsp;=&nbsp;False,</div></div><div class=\"10523\" style=\"display: none;\"><div style=\"display: table-cell;\"></div><div style=\"display: table-cell;\">height&nbsp;=&nbsp;None,</div></div><div class=\"10523\" style=\"display: none;\"><div style=\"display: table-cell;\"></div><div style=\"display: table-cell;\">height_policy&nbsp;=&nbsp;'auto',</div></div><div class=\"10523\" style=\"display: none;\"><div style=\"display: table-cell;\"></div><div style=\"display: table-cell;\">js_event_callbacks&nbsp;=&nbsp;{},</div></div><div class=\"10523\" style=\"display: none;\"><div style=\"display: table-cell;\"></div><div style=\"display: table-cell;\">js_property_callbacks&nbsp;=&nbsp;{},</div></div><div class=\"10523\" style=\"display: none;\"><div style=\"display: table-cell;\"></div><div style=\"display: table-cell;\">margin&nbsp;=&nbsp;(0, 0, 0, 0),</div></div><div class=\"10523\" style=\"display: none;\"><div style=\"display: table-cell;\"></div><div style=\"display: table-cell;\">max_height&nbsp;=&nbsp;None,</div></div><div class=\"10523\" style=\"display: none;\"><div style=\"display: table-cell;\"></div><div style=\"display: table-cell;\">max_width&nbsp;=&nbsp;None,</div></div><div class=\"10523\" style=\"display: none;\"><div style=\"display: table-cell;\"></div><div style=\"display: table-cell;\">min_height&nbsp;=&nbsp;None,</div></div><div class=\"10523\" style=\"display: none;\"><div style=\"display: table-cell;\"></div><div style=\"display: table-cell;\">min_width&nbsp;=&nbsp;None,</div></div><div class=\"10523\" style=\"display: none;\"><div style=\"display: table-cell;\"></div><div style=\"display: table-cell;\">name&nbsp;=&nbsp;None,</div></div><div class=\"10523\" style=\"display: none;\"><div style=\"display: table-cell;\"></div><div style=\"display: table-cell;\">sizing_mode&nbsp;=&nbsp;'stretch_width',</div></div><div class=\"10523\" style=\"display: none;\"><div style=\"display: table-cell;\"></div><div style=\"display: table-cell;\">spacing&nbsp;=&nbsp;0,</div></div><div class=\"10523\" style=\"display: none;\"><div style=\"display: table-cell;\"></div><div style=\"display: table-cell;\">subscribed_events&nbsp;=&nbsp;[],</div></div><div class=\"10523\" style=\"display: none;\"><div style=\"display: table-cell;\"></div><div style=\"display: table-cell;\">syncable&nbsp;=&nbsp;True,</div></div><div class=\"10523\" style=\"display: none;\"><div style=\"display: table-cell;\"></div><div style=\"display: table-cell;\">tags&nbsp;=&nbsp;[],</div></div><div class=\"10523\" style=\"display: none;\"><div style=\"display: table-cell;\"></div><div style=\"display: table-cell;\">visible&nbsp;=&nbsp;True,</div></div><div class=\"10523\" style=\"display: none;\"><div style=\"display: table-cell;\"></div><div style=\"display: table-cell;\">width&nbsp;=&nbsp;None,</div></div><div class=\"10523\" style=\"display: none;\"><div style=\"display: table-cell;\"></div><div style=\"display: table-cell;\">width_policy&nbsp;=&nbsp;'auto')</div></div></div>\n",
       "<script>\n",
       "(function() {\n",
       "  let expanded = false;\n",
       "  const ellipsis = document.getElementById(\"10524\");\n",
       "  ellipsis.addEventListener(\"click\", function() {\n",
       "    const rows = document.getElementsByClassName(\"10523\");\n",
       "    for (let i = 0; i < rows.length; i++) {\n",
       "      const el = rows[i];\n",
       "      el.style.display = expanded ? \"none\" : \"table-row\";\n",
       "    }\n",
       "    ellipsis.innerHTML = expanded ? \"&hellip;)\" : \"&lsaquo;&lsaquo;&lsaquo;\";\n",
       "    expanded = !expanded;\n",
       "  });\n",
       "})();\n",
       "</script>\n"
      ],
      "text/plain": [
       "Row(id='9923', ...)"
      ]
     },
     "execution_count": 17,
     "metadata": {},
     "output_type": "execute_result"
    }
   ],
   "source": [
    "class SMACross(Strategy):\n",
    "    mm1 = 8\n",
    "    mm2 = 20\n",
    "    mm3 = 30\n",
    "    mm4 = 200\n",
    "\n",
    "    def init(self):\n",
    "        super().init()\n",
    "        self.sma8 = self.I(SMA, self.data.Close, self.mm1)\n",
    "        self.sma20 = self.I(SMA, self.data.Close, self.mm2)\n",
    "        self.sma30 = self.I(SMA, self.data.Close, self.mm3)\n",
    "        self.sma200 = self.I(SMA, self.data.Close, self.mm4)\n",
    "\n",
    "    def next(self):\n",
    "        super().next()\n",
    "        self.stop_loss = 0.10\n",
    "        self.take_profit = 0.20\n",
    "        self.size = 10000 * 0.10\n",
    "        self.price = clean_df['Close'].iloc[-1]\n",
    "        self.engulfing = talib.CDLENGULFING(clean_df['Open'], clean_df['High'], clean_df['Low'], clean_df['Close'])\n",
    "        # self.engulfing_bullish = talib.CDLENGULFING(clean_df['Open'], clean_df['Low'], clean_df['High'], clean_df['Close'])\n",
    "        \n",
    "        if not self.position:\n",
    "            if self.sma20 > self.sma30 and self.price > self.sma30:\n",
    "                self.buy()\n",
    "            elif self.sma20 < self.sma30 and self.price < self.sma30:\n",
    "                self.sell()\n",
    "        else:\n",
    "            if self.position.is_long and self.sma8 < self.sma20 or \\\n",
    "            self.position.is_short and self.sma8 > self.sma20:\n",
    "                self.position.close()\n",
    "\n",
    "\n",
    "bt = Backtest(clean_df,SMACross, cash = 10000, commission = 0.00, trade_on_close=False)\n",
    "output = bt.run()\n",
    "print(output)\n",
    "bt.plot()\n"
   ]
  },
  {
   "cell_type": "code",
   "execution_count": null,
   "metadata": {},
   "outputs": [],
   "source": []
  }
 ],
 "metadata": {
  "interpreter": {
   "hash": "7d197a902866da8089b6dfdc2d70f9a756ced677ffc53ca526e6de3f208317f0"
  },
  "kernelspec": {
   "display_name": "Python 3.10.4 ('venv': venv)",
   "language": "python",
   "name": "python3"
  },
  "language_info": {
   "codemirror_mode": {
    "name": "ipython",
    "version": 3
   },
   "file_extension": ".py",
   "mimetype": "text/x-python",
   "name": "python",
   "nbconvert_exporter": "python",
   "pygments_lexer": "ipython3",
   "version": "3.10.4"
  },
  "orig_nbformat": 4
 },
 "nbformat": 4,
 "nbformat_minor": 2
}
