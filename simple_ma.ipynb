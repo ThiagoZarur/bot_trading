{
 "cells": [
  {
   "cell_type": "code",
   "execution_count": 1,
   "metadata": {},
   "outputs": [],
   "source": [
    "import pandas as pd\n",
    "import ccxt\n",
    "from binance.client import Client\n",
    "import numpy as np\n",
    "import matplotlib.pyplot as plt\n",
    "import seaborn as sns\n",
    "import talib\n",
    "from datetime import datetime, timedelta\n",
    "from backtesting import Strategy, Backtest\n",
    "from backtesting.lib import crossover\n",
    "from backtesting.test import SMA\n"
   ]
  },
  {
   "cell_type": "code",
   "execution_count": 2,
   "metadata": {},
   "outputs": [],
   "source": [
    "API_KEY = 'Your_key'\n",
    "API_SECRET = 'Your_key'\n",
    "client = Client(API_KEY,API_SECRET)"
   ]
  },
  {
   "cell_type": "code",
   "execution_count": 3,
   "metadata": {},
   "outputs": [
    {
     "data": {
      "text/html": [
       "<div>\n",
       "<style scoped>\n",
       "    .dataframe tbody tr th:only-of-type {\n",
       "        vertical-align: middle;\n",
       "    }\n",
       "\n",
       "    .dataframe tbody tr th {\n",
       "        vertical-align: top;\n",
       "    }\n",
       "\n",
       "    .dataframe thead th {\n",
       "        text-align: right;\n",
       "    }\n",
       "</style>\n",
       "<table border=\"1\" class=\"dataframe\">\n",
       "  <thead>\n",
       "    <tr style=\"text-align: right;\">\n",
       "      <th></th>\n",
       "      <th>Open</th>\n",
       "      <th>High</th>\n",
       "      <th>Low</th>\n",
       "      <th>Close</th>\n",
       "      <th>Volume</th>\n",
       "    </tr>\n",
       "  </thead>\n",
       "  <tbody>\n",
       "    <tr>\n",
       "      <th>9950</th>\n",
       "      <td>2638.14</td>\n",
       "      <td>2657.79</td>\n",
       "      <td>2631.00</td>\n",
       "      <td>2648.19</td>\n",
       "      <td>48403.7664</td>\n",
       "    </tr>\n",
       "    <tr>\n",
       "      <th>9951</th>\n",
       "      <td>2648.18</td>\n",
       "      <td>2672.23</td>\n",
       "      <td>2627.34</td>\n",
       "      <td>2642.81</td>\n",
       "      <td>52112.0031</td>\n",
       "    </tr>\n",
       "    <tr>\n",
       "      <th>9952</th>\n",
       "      <td>2642.81</td>\n",
       "      <td>2685.12</td>\n",
       "      <td>2640.00</td>\n",
       "      <td>2670.71</td>\n",
       "      <td>40771.7549</td>\n",
       "    </tr>\n",
       "    <tr>\n",
       "      <th>9953</th>\n",
       "      <td>2670.72</td>\n",
       "      <td>2681.16</td>\n",
       "      <td>2650.69</td>\n",
       "      <td>2665.15</td>\n",
       "      <td>26683.8615</td>\n",
       "    </tr>\n",
       "    <tr>\n",
       "      <th>9954</th>\n",
       "      <td>2665.16</td>\n",
       "      <td>2676.29</td>\n",
       "      <td>2635.00</td>\n",
       "      <td>2639.26</td>\n",
       "      <td>26540.3981</td>\n",
       "    </tr>\n",
       "  </tbody>\n",
       "</table>\n",
       "</div>"
      ],
      "text/plain": [
       "         Open     High      Low    Close      Volume\n",
       "9950  2638.14  2657.79  2631.00  2648.19  48403.7664\n",
       "9951  2648.18  2672.23  2627.34  2642.81  52112.0031\n",
       "9952  2642.81  2685.12  2640.00  2670.71  40771.7549\n",
       "9953  2670.72  2681.16  2650.69  2665.15  26683.8615\n",
       "9954  2665.16  2676.29  2635.00  2639.26  26540.3981"
      ]
     },
     "execution_count": 3,
     "metadata": {},
     "output_type": "execute_result"
    }
   ],
   "source": [
    "#Creating DataFrame using Binance, data of BTC/USDT\n",
    "\n",
    "# exchange = ccxt.binance()\n",
    "symbol = 'ETH/USDT'\n",
    "timeframe = '4h'\n",
    "ohlcv = client.get_historical_klines('ETHUSDT',Client.KLINE_INTERVAL_4HOUR,'16 Ago, 2017','06 Mar, 2022')\n",
    "to_df = pd.DataFrame(ohlcv)\n",
    "clean_df = to_df.drop(columns=[0,6,7,8,9,10,11])\n",
    "clean_df.columns = ['Open','High','Low','Close','Volume']\n",
    "clean_df['Open'] = pd.to_numeric(clean_df['Open'])\n",
    "clean_df['High'] = pd.to_numeric(clean_df['High'])\n",
    "clean_df['Low'] = pd.to_numeric(clean_df['Low'])\n",
    "clean_df['Close'] = pd.to_numeric(clean_df['Close'])\n",
    "clean_df['Volume'] = pd.to_numeric(clean_df['Volume'])\n",
    "\n",
    "clean_df.tail()"
   ]
  },
  {
   "cell_type": "code",
   "execution_count": 8,
   "metadata": {},
   "outputs": [
    {
     "name": "stderr",
     "output_type": "stream",
     "text": [
      "C:\\Users\\MI PC\\AppData\\Local\\Temp\\ipykernel_6948\\2893332585.py:31: UserWarning: Data index is not datetime. Assuming simple periods, but `pd.DateTimeIndex` is advised.\n",
      "  bt = Backtest(clean_df,SMACross, cash = 10000, commission = 0.00, trade_on_close=False)\n"
     ]
    },
    {
     "ename": "ValueError",
     "evalue": "('Lengths must match to compare', (9955,), (277,))",
     "output_type": "error",
     "traceback": [
      "\u001b[1;31m---------------------------------------------------------------------------\u001b[0m",
      "\u001b[1;31mValueError\u001b[0m                                Traceback (most recent call last)",
      "\u001b[1;32mc:\\Users\\MI PC\\Documents\\Coding\\bot_crypto_laws\\simple_ma.ipynb Cell 4'\u001b[0m in \u001b[0;36m<cell line: 32>\u001b[1;34m()\u001b[0m\n\u001b[0;32m     <a href='vscode-notebook-cell:/c%3A/Users/MI%20PC/Documents/Coding/bot_crypto_laws/simple_ma.ipynb#ch0000004?line=28'>29</a>\u001b[0m                 \u001b[39mself\u001b[39m\u001b[39m.\u001b[39msell()\n\u001b[0;32m     <a href='vscode-notebook-cell:/c%3A/Users/MI%20PC/Documents/Coding/bot_crypto_laws/simple_ma.ipynb#ch0000004?line=30'>31</a>\u001b[0m bt \u001b[39m=\u001b[39m Backtest(clean_df,SMACross, cash \u001b[39m=\u001b[39m \u001b[39m10000\u001b[39m, commission \u001b[39m=\u001b[39m \u001b[39m0.00\u001b[39m, trade_on_close\u001b[39m=\u001b[39m\u001b[39mFalse\u001b[39;00m)\n\u001b[1;32m---> <a href='vscode-notebook-cell:/c%3A/Users/MI%20PC/Documents/Coding/bot_crypto_laws/simple_ma.ipynb#ch0000004?line=31'>32</a>\u001b[0m output \u001b[39m=\u001b[39m bt\u001b[39m.\u001b[39;49mrun()\n\u001b[0;32m     <a href='vscode-notebook-cell:/c%3A/Users/MI%20PC/Documents/Coding/bot_crypto_laws/simple_ma.ipynb#ch0000004?line=32'>33</a>\u001b[0m \u001b[39mprint\u001b[39m(output)\n\u001b[0;32m     <a href='vscode-notebook-cell:/c%3A/Users/MI%20PC/Documents/Coding/bot_crypto_laws/simple_ma.ipynb#ch0000004?line=33'>34</a>\u001b[0m bt\u001b[39m.\u001b[39mplot()\n",
      "File \u001b[1;32mc:\\Users\\MI PC\\Documents\\Coding\\bot_crypto_laws\\venv\\lib\\site-packages\\backtesting\\backtesting.py:1170\u001b[0m, in \u001b[0;36mBacktest.run\u001b[1;34m(self, **kwargs)\u001b[0m\n\u001b[0;32m   <a href='file:///c%3A/Users/MI%20PC/Documents/Coding/bot_crypto_laws/venv/lib/site-packages/backtesting/backtesting.py?line=1166'>1167</a>\u001b[0m         \u001b[39mbreak\u001b[39;00m\n\u001b[0;32m   <a href='file:///c%3A/Users/MI%20PC/Documents/Coding/bot_crypto_laws/venv/lib/site-packages/backtesting/backtesting.py?line=1168'>1169</a>\u001b[0m     \u001b[39m# Next tick, a moment before bar close\u001b[39;00m\n\u001b[1;32m-> <a href='file:///c%3A/Users/MI%20PC/Documents/Coding/bot_crypto_laws/venv/lib/site-packages/backtesting/backtesting.py?line=1169'>1170</a>\u001b[0m     strategy\u001b[39m.\u001b[39;49mnext()\n\u001b[0;32m   <a href='file:///c%3A/Users/MI%20PC/Documents/Coding/bot_crypto_laws/venv/lib/site-packages/backtesting/backtesting.py?line=1170'>1171</a>\u001b[0m \u001b[39melse\u001b[39;00m:\n\u001b[0;32m   <a href='file:///c%3A/Users/MI%20PC/Documents/Coding/bot_crypto_laws/venv/lib/site-packages/backtesting/backtesting.py?line=1171'>1172</a>\u001b[0m     \u001b[39m# Close any remaining open trades so they produce some stats\u001b[39;00m\n\u001b[0;32m   <a href='file:///c%3A/Users/MI%20PC/Documents/Coding/bot_crypto_laws/venv/lib/site-packages/backtesting/backtesting.py?line=1172'>1173</a>\u001b[0m     \u001b[39mfor\u001b[39;00m trade \u001b[39min\u001b[39;00m broker\u001b[39m.\u001b[39mtrades:\n",
      "\u001b[1;32mc:\\Users\\MI PC\\Documents\\Coding\\bot_crypto_laws\\simple_ma.ipynb Cell 4'\u001b[0m in \u001b[0;36mSMACross.next\u001b[1;34m(self)\u001b[0m\n\u001b[0;32m     <a href='vscode-notebook-cell:/c%3A/Users/MI%20PC/Documents/Coding/bot_crypto_laws/simple_ma.ipynb#ch0000004?line=19'>20</a>\u001b[0m engulfing_bullish \u001b[39m=\u001b[39m talib\u001b[39m.\u001b[39mCDLENGULFING(clean_df[\u001b[39m'\u001b[39m\u001b[39mOpen\u001b[39m\u001b[39m'\u001b[39m], clean_df[\u001b[39m'\u001b[39m\u001b[39mLow\u001b[39m\u001b[39m'\u001b[39m], clean_df[\u001b[39m'\u001b[39m\u001b[39mHigh\u001b[39m\u001b[39m'\u001b[39m], clean_df[\u001b[39m'\u001b[39m\u001b[39mClose\u001b[39m\u001b[39m'\u001b[39m])\n\u001b[0;32m     <a href='vscode-notebook-cell:/c%3A/Users/MI%20PC/Documents/Coding/bot_crypto_laws/simple_ma.ipynb#ch0000004?line=22'>23</a>\u001b[0m \u001b[39mif\u001b[39;00m crossover(\u001b[39mself\u001b[39m\u001b[39m.\u001b[39msma20, \u001b[39mself\u001b[39m\u001b[39m.\u001b[39msma200):\n\u001b[1;32m---> <a href='vscode-notebook-cell:/c%3A/Users/MI%20PC/Documents/Coding/bot_crypto_laws/simple_ma.ipynb#ch0000004?line=23'>24</a>\u001b[0m     \u001b[39mif\u001b[39;00m price \u001b[39m>\u001b[39;49m \u001b[39mself\u001b[39;49m\u001b[39m.\u001b[39;49msma20:\n\u001b[0;32m     <a href='vscode-notebook-cell:/c%3A/Users/MI%20PC/Documents/Coding/bot_crypto_laws/simple_ma.ipynb#ch0000004?line=24'>25</a>\u001b[0m         \u001b[39mself\u001b[39m\u001b[39m.\u001b[39mbuy()\n\u001b[0;32m     <a href='vscode-notebook-cell:/c%3A/Users/MI%20PC/Documents/Coding/bot_crypto_laws/simple_ma.ipynb#ch0000004?line=26'>27</a>\u001b[0m \u001b[39melif\u001b[39;00m crossover(\u001b[39mself\u001b[39m\u001b[39m.\u001b[39msma200, \u001b[39mself\u001b[39m\u001b[39m.\u001b[39msma20):\n",
      "File \u001b[1;32mc:\\Users\\MI PC\\Documents\\Coding\\bot_crypto_laws\\venv\\lib\\site-packages\\pandas\\core\\ops\\common.py:70\u001b[0m, in \u001b[0;36m_unpack_zerodim_and_defer.<locals>.new_method\u001b[1;34m(self, other)\u001b[0m\n\u001b[0;32m     <a href='file:///c%3A/Users/MI%20PC/Documents/Coding/bot_crypto_laws/venv/lib/site-packages/pandas/core/ops/common.py?line=65'>66</a>\u001b[0m             \u001b[39mreturn\u001b[39;00m \u001b[39mNotImplemented\u001b[39m\n\u001b[0;32m     <a href='file:///c%3A/Users/MI%20PC/Documents/Coding/bot_crypto_laws/venv/lib/site-packages/pandas/core/ops/common.py?line=67'>68</a>\u001b[0m other \u001b[39m=\u001b[39m item_from_zerodim(other)\n\u001b[1;32m---> <a href='file:///c%3A/Users/MI%20PC/Documents/Coding/bot_crypto_laws/venv/lib/site-packages/pandas/core/ops/common.py?line=69'>70</a>\u001b[0m \u001b[39mreturn\u001b[39;00m method(\u001b[39mself\u001b[39;49m, other)\n",
      "File \u001b[1;32mc:\\Users\\MI PC\\Documents\\Coding\\bot_crypto_laws\\venv\\lib\\site-packages\\pandas\\core\\arraylike.py:56\u001b[0m, in \u001b[0;36mOpsMixin.__gt__\u001b[1;34m(self, other)\u001b[0m\n\u001b[0;32m     <a href='file:///c%3A/Users/MI%20PC/Documents/Coding/bot_crypto_laws/venv/lib/site-packages/pandas/core/arraylike.py?line=53'>54</a>\u001b[0m \u001b[39m@unpack_zerodim_and_defer\u001b[39m(\u001b[39m\"\u001b[39m\u001b[39m__gt__\u001b[39m\u001b[39m\"\u001b[39m)\n\u001b[0;32m     <a href='file:///c%3A/Users/MI%20PC/Documents/Coding/bot_crypto_laws/venv/lib/site-packages/pandas/core/arraylike.py?line=54'>55</a>\u001b[0m \u001b[39mdef\u001b[39;00m \u001b[39m__gt__\u001b[39m(\u001b[39mself\u001b[39m, other):\n\u001b[1;32m---> <a href='file:///c%3A/Users/MI%20PC/Documents/Coding/bot_crypto_laws/venv/lib/site-packages/pandas/core/arraylike.py?line=55'>56</a>\u001b[0m     \u001b[39mreturn\u001b[39;00m \u001b[39mself\u001b[39;49m\u001b[39m.\u001b[39;49m_cmp_method(other, operator\u001b[39m.\u001b[39;49mgt)\n",
      "File \u001b[1;32mc:\\Users\\MI PC\\Documents\\Coding\\bot_crypto_laws\\venv\\lib\\site-packages\\pandas\\core\\series.py:5623\u001b[0m, in \u001b[0;36mSeries._cmp_method\u001b[1;34m(self, other, op)\u001b[0m\n\u001b[0;32m   <a href='file:///c%3A/Users/MI%20PC/Documents/Coding/bot_crypto_laws/venv/lib/site-packages/pandas/core/series.py?line=5619'>5620</a>\u001b[0m rvalues \u001b[39m=\u001b[39m extract_array(other, extract_numpy\u001b[39m=\u001b[39m\u001b[39mTrue\u001b[39;00m, extract_range\u001b[39m=\u001b[39m\u001b[39mTrue\u001b[39;00m)\n\u001b[0;32m   <a href='file:///c%3A/Users/MI%20PC/Documents/Coding/bot_crypto_laws/venv/lib/site-packages/pandas/core/series.py?line=5621'>5622</a>\u001b[0m \u001b[39mwith\u001b[39;00m np\u001b[39m.\u001b[39merrstate(\u001b[39mall\u001b[39m\u001b[39m=\u001b[39m\u001b[39m\"\u001b[39m\u001b[39mignore\u001b[39m\u001b[39m\"\u001b[39m):\n\u001b[1;32m-> <a href='file:///c%3A/Users/MI%20PC/Documents/Coding/bot_crypto_laws/venv/lib/site-packages/pandas/core/series.py?line=5622'>5623</a>\u001b[0m     res_values \u001b[39m=\u001b[39m ops\u001b[39m.\u001b[39;49mcomparison_op(lvalues, rvalues, op)\n\u001b[0;32m   <a href='file:///c%3A/Users/MI%20PC/Documents/Coding/bot_crypto_laws/venv/lib/site-packages/pandas/core/series.py?line=5624'>5625</a>\u001b[0m \u001b[39mreturn\u001b[39;00m \u001b[39mself\u001b[39m\u001b[39m.\u001b[39m_construct_result(res_values, name\u001b[39m=\u001b[39mres_name)\n",
      "File \u001b[1;32mc:\\Users\\MI PC\\Documents\\Coding\\bot_crypto_laws\\venv\\lib\\site-packages\\pandas\\core\\ops\\array_ops.py:260\u001b[0m, in \u001b[0;36mcomparison_op\u001b[1;34m(left, right, op)\u001b[0m\n\u001b[0;32m    <a href='file:///c%3A/Users/MI%20PC/Documents/Coding/bot_crypto_laws/venv/lib/site-packages/pandas/core/ops/array_ops.py?line=254'>255</a>\u001b[0m \u001b[39mif\u001b[39;00m \u001b[39misinstance\u001b[39m(rvalues, (np\u001b[39m.\u001b[39mndarray, ABCExtensionArray)):\n\u001b[0;32m    <a href='file:///c%3A/Users/MI%20PC/Documents/Coding/bot_crypto_laws/venv/lib/site-packages/pandas/core/ops/array_ops.py?line=255'>256</a>\u001b[0m     \u001b[39m# TODO: make this treatment consistent across ops and classes.\u001b[39;00m\n\u001b[0;32m    <a href='file:///c%3A/Users/MI%20PC/Documents/Coding/bot_crypto_laws/venv/lib/site-packages/pandas/core/ops/array_ops.py?line=256'>257</a>\u001b[0m     \u001b[39m#  We are not catching all listlikes here (e.g. frozenset, tuple)\u001b[39;00m\n\u001b[0;32m    <a href='file:///c%3A/Users/MI%20PC/Documents/Coding/bot_crypto_laws/venv/lib/site-packages/pandas/core/ops/array_ops.py?line=257'>258</a>\u001b[0m     \u001b[39m#  The ambiguous case is object-dtype.  See GH#27803\u001b[39;00m\n\u001b[0;32m    <a href='file:///c%3A/Users/MI%20PC/Documents/Coding/bot_crypto_laws/venv/lib/site-packages/pandas/core/ops/array_ops.py?line=258'>259</a>\u001b[0m     \u001b[39mif\u001b[39;00m \u001b[39mlen\u001b[39m(lvalues) \u001b[39m!=\u001b[39m \u001b[39mlen\u001b[39m(rvalues):\n\u001b[1;32m--> <a href='file:///c%3A/Users/MI%20PC/Documents/Coding/bot_crypto_laws/venv/lib/site-packages/pandas/core/ops/array_ops.py?line=259'>260</a>\u001b[0m         \u001b[39mraise\u001b[39;00m \u001b[39mValueError\u001b[39;00m(\n\u001b[0;32m    <a href='file:///c%3A/Users/MI%20PC/Documents/Coding/bot_crypto_laws/venv/lib/site-packages/pandas/core/ops/array_ops.py?line=260'>261</a>\u001b[0m             \u001b[39m\"\u001b[39m\u001b[39mLengths must match to compare\u001b[39m\u001b[39m\"\u001b[39m, lvalues\u001b[39m.\u001b[39mshape, rvalues\u001b[39m.\u001b[39mshape\n\u001b[0;32m    <a href='file:///c%3A/Users/MI%20PC/Documents/Coding/bot_crypto_laws/venv/lib/site-packages/pandas/core/ops/array_ops.py?line=261'>262</a>\u001b[0m         )\n\u001b[0;32m    <a href='file:///c%3A/Users/MI%20PC/Documents/Coding/bot_crypto_laws/venv/lib/site-packages/pandas/core/ops/array_ops.py?line=263'>264</a>\u001b[0m \u001b[39mif\u001b[39;00m should_extension_dispatch(lvalues, rvalues) \u001b[39mor\u001b[39;00m (\n\u001b[0;32m    <a href='file:///c%3A/Users/MI%20PC/Documents/Coding/bot_crypto_laws/venv/lib/site-packages/pandas/core/ops/array_ops.py?line=264'>265</a>\u001b[0m     (\u001b[39misinstance\u001b[39m(rvalues, (Timedelta, BaseOffset, Timestamp)) \u001b[39mor\u001b[39;00m right \u001b[39mis\u001b[39;00m NaT)\n\u001b[0;32m    <a href='file:///c%3A/Users/MI%20PC/Documents/Coding/bot_crypto_laws/venv/lib/site-packages/pandas/core/ops/array_ops.py?line=265'>266</a>\u001b[0m     \u001b[39mand\u001b[39;00m \u001b[39mnot\u001b[39;00m is_object_dtype(lvalues\u001b[39m.\u001b[39mdtype)\n\u001b[0;32m    <a href='file:///c%3A/Users/MI%20PC/Documents/Coding/bot_crypto_laws/venv/lib/site-packages/pandas/core/ops/array_ops.py?line=266'>267</a>\u001b[0m ):\n\u001b[0;32m    <a href='file:///c%3A/Users/MI%20PC/Documents/Coding/bot_crypto_laws/venv/lib/site-packages/pandas/core/ops/array_ops.py?line=267'>268</a>\u001b[0m     \u001b[39m# Call the method on lvalues\u001b[39;00m\n\u001b[0;32m    <a href='file:///c%3A/Users/MI%20PC/Documents/Coding/bot_crypto_laws/venv/lib/site-packages/pandas/core/ops/array_ops.py?line=268'>269</a>\u001b[0m     res_values \u001b[39m=\u001b[39m op(lvalues, rvalues)\n",
      "\u001b[1;31mValueError\u001b[0m: ('Lengths must match to compare', (9955,), (277,))"
     ]
    }
   ],
   "source": [
    "class SMACross(Strategy):\n",
    "    mm1 = 20\n",
    "    mm2 = 30\n",
    "    mm3 = 200\n",
    "\n",
    "    def init(self):\n",
    "        super().init()\n",
    "        self.sma20 = self.I(SMA, self.data.Close, self.mm1)\n",
    "        self.sma30 = self.I(SMA, self.data.Close, self.mm2)\n",
    "        self.sma200 = self.I(SMA, self.data.Close, self.mm3)\n",
    "    \n",
    "\n",
    "    def next(self):\n",
    "        super().next()\n",
    "        stop_loss = 0.10\n",
    "        take_profit = 0.20\n",
    "        size = 10000 * 0.10\n",
    "        price = clean_df['Close']\n",
    "        engulfing_bearish = talib.CDLENGULFING(clean_df['Open'], clean_df['High'], clean_df['Low'], clean_df['Close'])\n",
    "        engulfing_bullish = talib.CDLENGULFING(clean_df['Open'], clean_df['Low'], clean_df['High'], clean_df['Close'])\n",
    "        \n",
    "\n",
    "        if crossover(self.sma20, self.sma200):\n",
    "            if price > self.sma20:\n",
    "                self.buy()\n",
    "    \n",
    "        elif crossover(self.sma200, self.sma20):\n",
    "            if price < self.sma20:\n",
    "                self.sell()\n",
    "            \n",
    "bt = Backtest(clean_df,SMACross, cash = 10000, commission = 0.00, trade_on_close=False)\n",
    "output = bt.run()\n",
    "print(output)\n",
    "bt.plot()\n"
   ]
  },
  {
   "cell_type": "code",
   "execution_count": 7,
   "metadata": {},
   "outputs": [
    {
     "name": "stderr",
     "output_type": "stream",
     "text": [
      "C:\\Users\\MI PC\\AppData\\Local\\Temp\\ipykernel_14780\\4047231230.py:1: UserWarning: Data index is not datetime. Assuming simple periods, but `pd.DateTimeIndex` is advised.\n",
      "  bt = Backtest(clean_df,SMACross, cash = 10000, commission = 0.05, exclusive_orders= True)\n"
     ]
    },
    {
     "ename": "ValueError",
     "evalue": "('Lengths must match to compare', (9955,), (201,))",
     "output_type": "error",
     "traceback": [
      "\u001b[1;31m---------------------------------------------------------------------------\u001b[0m",
      "\u001b[1;31mValueError\u001b[0m                                Traceback (most recent call last)",
      "\u001b[1;32mc:\\Users\\MI PC\\Documents\\Coding\\bot_crypto_laws\\simple_ma.ipynb Cell 6'\u001b[0m in \u001b[0;36m<cell line: 2>\u001b[1;34m()\u001b[0m\n\u001b[0;32m      <a href='vscode-notebook-cell:/c%3A/Users/MI%20PC/Documents/Coding/bot_crypto_laws/simple_ma.ipynb#ch0000005?line=0'>1</a>\u001b[0m bt \u001b[39m=\u001b[39m Backtest(clean_df,SMACross, cash \u001b[39m=\u001b[39m \u001b[39m10000\u001b[39m, commission \u001b[39m=\u001b[39m \u001b[39m0.05\u001b[39m, exclusive_orders\u001b[39m=\u001b[39m \u001b[39mTrue\u001b[39;00m)\n\u001b[1;32m----> <a href='vscode-notebook-cell:/c%3A/Users/MI%20PC/Documents/Coding/bot_crypto_laws/simple_ma.ipynb#ch0000005?line=1'>2</a>\u001b[0m output \u001b[39m=\u001b[39m bt\u001b[39m.\u001b[39;49mrun()\n\u001b[0;32m      <a href='vscode-notebook-cell:/c%3A/Users/MI%20PC/Documents/Coding/bot_crypto_laws/simple_ma.ipynb#ch0000005?line=2'>3</a>\u001b[0m \u001b[39mprint\u001b[39m(output)\n\u001b[0;32m      <a href='vscode-notebook-cell:/c%3A/Users/MI%20PC/Documents/Coding/bot_crypto_laws/simple_ma.ipynb#ch0000005?line=3'>4</a>\u001b[0m bt\u001b[39m.\u001b[39mplot()\n",
      "File \u001b[1;32mc:\\Users\\MI PC\\Documents\\Coding\\bot_crypto_laws\\venv\\lib\\site-packages\\backtesting\\backtesting.py:1170\u001b[0m, in \u001b[0;36mBacktest.run\u001b[1;34m(self, **kwargs)\u001b[0m\n\u001b[0;32m   <a href='file:///c%3A/Users/MI%20PC/Documents/Coding/bot_crypto_laws/venv/lib/site-packages/backtesting/backtesting.py?line=1166'>1167</a>\u001b[0m         \u001b[39mbreak\u001b[39;00m\n\u001b[0;32m   <a href='file:///c%3A/Users/MI%20PC/Documents/Coding/bot_crypto_laws/venv/lib/site-packages/backtesting/backtesting.py?line=1168'>1169</a>\u001b[0m     \u001b[39m# Next tick, a moment before bar close\u001b[39;00m\n\u001b[1;32m-> <a href='file:///c%3A/Users/MI%20PC/Documents/Coding/bot_crypto_laws/venv/lib/site-packages/backtesting/backtesting.py?line=1169'>1170</a>\u001b[0m     strategy\u001b[39m.\u001b[39;49mnext()\n\u001b[0;32m   <a href='file:///c%3A/Users/MI%20PC/Documents/Coding/bot_crypto_laws/venv/lib/site-packages/backtesting/backtesting.py?line=1170'>1171</a>\u001b[0m \u001b[39melse\u001b[39;00m:\n\u001b[0;32m   <a href='file:///c%3A/Users/MI%20PC/Documents/Coding/bot_crypto_laws/venv/lib/site-packages/backtesting/backtesting.py?line=1171'>1172</a>\u001b[0m     \u001b[39m# Close any remaining open trades so they produce some stats\u001b[39;00m\n\u001b[0;32m   <a href='file:///c%3A/Users/MI%20PC/Documents/Coding/bot_crypto_laws/venv/lib/site-packages/backtesting/backtesting.py?line=1172'>1173</a>\u001b[0m     \u001b[39mfor\u001b[39;00m trade \u001b[39min\u001b[39;00m broker\u001b[39m.\u001b[39mtrades:\n",
      "\u001b[1;32mc:\\Users\\MI PC\\Documents\\Coding\\bot_crypto_laws\\simple_ma.ipynb Cell 5'\u001b[0m in \u001b[0;36mSMACross.next\u001b[1;34m(self)\u001b[0m\n\u001b[0;32m     <a href='vscode-notebook-cell:/c%3A/Users/MI%20PC/Documents/Coding/bot_crypto_laws/simple_ma.ipynb#ch0000004?line=21'>22</a>\u001b[0m \u001b[39mif\u001b[39;00m \u001b[39mself\u001b[39m\u001b[39m.\u001b[39msma20 \u001b[39m>\u001b[39m \u001b[39mself\u001b[39m\u001b[39m.\u001b[39msma200 \u001b[39mand\u001b[39;00m \u001b[39mself\u001b[39m\u001b[39m.\u001b[39mengulfing_pattern \u001b[39m>\u001b[39m \u001b[39mself\u001b[39m\u001b[39m.\u001b[39msma20:\n\u001b[0;32m     <a href='vscode-notebook-cell:/c%3A/Users/MI%20PC/Documents/Coding/bot_crypto_laws/simple_ma.ipynb#ch0000004?line=22'>23</a>\u001b[0m     \u001b[39mself\u001b[39m\u001b[39m.\u001b[39mbuy(sl\u001b[39m=\u001b[39m stop_loss , tp\u001b[39m=\u001b[39mtake_profit, size\u001b[39m=\u001b[39msize)\n\u001b[1;32m---> <a href='vscode-notebook-cell:/c%3A/Users/MI%20PC/Documents/Coding/bot_crypto_laws/simple_ma.ipynb#ch0000004?line=24'>25</a>\u001b[0m \u001b[39melif\u001b[39;00m \u001b[39mself\u001b[39m\u001b[39m.\u001b[39msma200 \u001b[39m>\u001b[39m \u001b[39mself\u001b[39m\u001b[39m.\u001b[39msma20 \u001b[39mand\u001b[39;00m \u001b[39mself\u001b[39;49m\u001b[39m.\u001b[39;49mengulfing_pattern \u001b[39m<\u001b[39;49m \u001b[39mself\u001b[39;49m\u001b[39m.\u001b[39;49msma20:\n\u001b[0;32m     <a href='vscode-notebook-cell:/c%3A/Users/MI%20PC/Documents/Coding/bot_crypto_laws/simple_ma.ipynb#ch0000004?line=25'>26</a>\u001b[0m     \u001b[39mself\u001b[39m\u001b[39m.\u001b[39msell(sl\u001b[39m=\u001b[39m stop_loss , tp\u001b[39m=\u001b[39mtake_profit, size\u001b[39m=\u001b[39msize)\n",
      "File \u001b[1;32mc:\\Users\\MI PC\\Documents\\Coding\\bot_crypto_laws\\venv\\lib\\site-packages\\pandas\\core\\ops\\common.py:70\u001b[0m, in \u001b[0;36m_unpack_zerodim_and_defer.<locals>.new_method\u001b[1;34m(self, other)\u001b[0m\n\u001b[0;32m     <a href='file:///c%3A/Users/MI%20PC/Documents/Coding/bot_crypto_laws/venv/lib/site-packages/pandas/core/ops/common.py?line=65'>66</a>\u001b[0m             \u001b[39mreturn\u001b[39;00m \u001b[39mNotImplemented\u001b[39m\n\u001b[0;32m     <a href='file:///c%3A/Users/MI%20PC/Documents/Coding/bot_crypto_laws/venv/lib/site-packages/pandas/core/ops/common.py?line=67'>68</a>\u001b[0m other \u001b[39m=\u001b[39m item_from_zerodim(other)\n\u001b[1;32m---> <a href='file:///c%3A/Users/MI%20PC/Documents/Coding/bot_crypto_laws/venv/lib/site-packages/pandas/core/ops/common.py?line=69'>70</a>\u001b[0m \u001b[39mreturn\u001b[39;00m method(\u001b[39mself\u001b[39;49m, other)\n",
      "File \u001b[1;32mc:\\Users\\MI PC\\Documents\\Coding\\bot_crypto_laws\\venv\\lib\\site-packages\\pandas\\core\\arraylike.py:48\u001b[0m, in \u001b[0;36mOpsMixin.__lt__\u001b[1;34m(self, other)\u001b[0m\n\u001b[0;32m     <a href='file:///c%3A/Users/MI%20PC/Documents/Coding/bot_crypto_laws/venv/lib/site-packages/pandas/core/arraylike.py?line=45'>46</a>\u001b[0m \u001b[39m@unpack_zerodim_and_defer\u001b[39m(\u001b[39m\"\u001b[39m\u001b[39m__lt__\u001b[39m\u001b[39m\"\u001b[39m)\n\u001b[0;32m     <a href='file:///c%3A/Users/MI%20PC/Documents/Coding/bot_crypto_laws/venv/lib/site-packages/pandas/core/arraylike.py?line=46'>47</a>\u001b[0m \u001b[39mdef\u001b[39;00m \u001b[39m__lt__\u001b[39m(\u001b[39mself\u001b[39m, other):\n\u001b[1;32m---> <a href='file:///c%3A/Users/MI%20PC/Documents/Coding/bot_crypto_laws/venv/lib/site-packages/pandas/core/arraylike.py?line=47'>48</a>\u001b[0m     \u001b[39mreturn\u001b[39;00m \u001b[39mself\u001b[39;49m\u001b[39m.\u001b[39;49m_cmp_method(other, operator\u001b[39m.\u001b[39;49mlt)\n",
      "File \u001b[1;32mc:\\Users\\MI PC\\Documents\\Coding\\bot_crypto_laws\\venv\\lib\\site-packages\\pandas\\core\\series.py:5623\u001b[0m, in \u001b[0;36mSeries._cmp_method\u001b[1;34m(self, other, op)\u001b[0m\n\u001b[0;32m   <a href='file:///c%3A/Users/MI%20PC/Documents/Coding/bot_crypto_laws/venv/lib/site-packages/pandas/core/series.py?line=5619'>5620</a>\u001b[0m rvalues \u001b[39m=\u001b[39m extract_array(other, extract_numpy\u001b[39m=\u001b[39m\u001b[39mTrue\u001b[39;00m, extract_range\u001b[39m=\u001b[39m\u001b[39mTrue\u001b[39;00m)\n\u001b[0;32m   <a href='file:///c%3A/Users/MI%20PC/Documents/Coding/bot_crypto_laws/venv/lib/site-packages/pandas/core/series.py?line=5621'>5622</a>\u001b[0m \u001b[39mwith\u001b[39;00m np\u001b[39m.\u001b[39merrstate(\u001b[39mall\u001b[39m\u001b[39m=\u001b[39m\u001b[39m\"\u001b[39m\u001b[39mignore\u001b[39m\u001b[39m\"\u001b[39m):\n\u001b[1;32m-> <a href='file:///c%3A/Users/MI%20PC/Documents/Coding/bot_crypto_laws/venv/lib/site-packages/pandas/core/series.py?line=5622'>5623</a>\u001b[0m     res_values \u001b[39m=\u001b[39m ops\u001b[39m.\u001b[39;49mcomparison_op(lvalues, rvalues, op)\n\u001b[0;32m   <a href='file:///c%3A/Users/MI%20PC/Documents/Coding/bot_crypto_laws/venv/lib/site-packages/pandas/core/series.py?line=5624'>5625</a>\u001b[0m \u001b[39mreturn\u001b[39;00m \u001b[39mself\u001b[39m\u001b[39m.\u001b[39m_construct_result(res_values, name\u001b[39m=\u001b[39mres_name)\n",
      "File \u001b[1;32mc:\\Users\\MI PC\\Documents\\Coding\\bot_crypto_laws\\venv\\lib\\site-packages\\pandas\\core\\ops\\array_ops.py:260\u001b[0m, in \u001b[0;36mcomparison_op\u001b[1;34m(left, right, op)\u001b[0m\n\u001b[0;32m    <a href='file:///c%3A/Users/MI%20PC/Documents/Coding/bot_crypto_laws/venv/lib/site-packages/pandas/core/ops/array_ops.py?line=254'>255</a>\u001b[0m \u001b[39mif\u001b[39;00m \u001b[39misinstance\u001b[39m(rvalues, (np\u001b[39m.\u001b[39mndarray, ABCExtensionArray)):\n\u001b[0;32m    <a href='file:///c%3A/Users/MI%20PC/Documents/Coding/bot_crypto_laws/venv/lib/site-packages/pandas/core/ops/array_ops.py?line=255'>256</a>\u001b[0m     \u001b[39m# TODO: make this treatment consistent across ops and classes.\u001b[39;00m\n\u001b[0;32m    <a href='file:///c%3A/Users/MI%20PC/Documents/Coding/bot_crypto_laws/venv/lib/site-packages/pandas/core/ops/array_ops.py?line=256'>257</a>\u001b[0m     \u001b[39m#  We are not catching all listlikes here (e.g. frozenset, tuple)\u001b[39;00m\n\u001b[0;32m    <a href='file:///c%3A/Users/MI%20PC/Documents/Coding/bot_crypto_laws/venv/lib/site-packages/pandas/core/ops/array_ops.py?line=257'>258</a>\u001b[0m     \u001b[39m#  The ambiguous case is object-dtype.  See GH#27803\u001b[39;00m\n\u001b[0;32m    <a href='file:///c%3A/Users/MI%20PC/Documents/Coding/bot_crypto_laws/venv/lib/site-packages/pandas/core/ops/array_ops.py?line=258'>259</a>\u001b[0m     \u001b[39mif\u001b[39;00m \u001b[39mlen\u001b[39m(lvalues) \u001b[39m!=\u001b[39m \u001b[39mlen\u001b[39m(rvalues):\n\u001b[1;32m--> <a href='file:///c%3A/Users/MI%20PC/Documents/Coding/bot_crypto_laws/venv/lib/site-packages/pandas/core/ops/array_ops.py?line=259'>260</a>\u001b[0m         \u001b[39mraise\u001b[39;00m \u001b[39mValueError\u001b[39;00m(\n\u001b[0;32m    <a href='file:///c%3A/Users/MI%20PC/Documents/Coding/bot_crypto_laws/venv/lib/site-packages/pandas/core/ops/array_ops.py?line=260'>261</a>\u001b[0m             \u001b[39m\"\u001b[39m\u001b[39mLengths must match to compare\u001b[39m\u001b[39m\"\u001b[39m, lvalues\u001b[39m.\u001b[39mshape, rvalues\u001b[39m.\u001b[39mshape\n\u001b[0;32m    <a href='file:///c%3A/Users/MI%20PC/Documents/Coding/bot_crypto_laws/venv/lib/site-packages/pandas/core/ops/array_ops.py?line=261'>262</a>\u001b[0m         )\n\u001b[0;32m    <a href='file:///c%3A/Users/MI%20PC/Documents/Coding/bot_crypto_laws/venv/lib/site-packages/pandas/core/ops/array_ops.py?line=263'>264</a>\u001b[0m \u001b[39mif\u001b[39;00m should_extension_dispatch(lvalues, rvalues) \u001b[39mor\u001b[39;00m (\n\u001b[0;32m    <a href='file:///c%3A/Users/MI%20PC/Documents/Coding/bot_crypto_laws/venv/lib/site-packages/pandas/core/ops/array_ops.py?line=264'>265</a>\u001b[0m     (\u001b[39misinstance\u001b[39m(rvalues, (Timedelta, BaseOffset, Timestamp)) \u001b[39mor\u001b[39;00m right \u001b[39mis\u001b[39;00m NaT)\n\u001b[0;32m    <a href='file:///c%3A/Users/MI%20PC/Documents/Coding/bot_crypto_laws/venv/lib/site-packages/pandas/core/ops/array_ops.py?line=265'>266</a>\u001b[0m     \u001b[39mand\u001b[39;00m \u001b[39mnot\u001b[39;00m is_object_dtype(lvalues\u001b[39m.\u001b[39mdtype)\n\u001b[0;32m    <a href='file:///c%3A/Users/MI%20PC/Documents/Coding/bot_crypto_laws/venv/lib/site-packages/pandas/core/ops/array_ops.py?line=266'>267</a>\u001b[0m ):\n\u001b[0;32m    <a href='file:///c%3A/Users/MI%20PC/Documents/Coding/bot_crypto_laws/venv/lib/site-packages/pandas/core/ops/array_ops.py?line=267'>268</a>\u001b[0m     \u001b[39m# Call the method on lvalues\u001b[39;00m\n\u001b[0;32m    <a href='file:///c%3A/Users/MI%20PC/Documents/Coding/bot_crypto_laws/venv/lib/site-packages/pandas/core/ops/array_ops.py?line=268'>269</a>\u001b[0m     res_values \u001b[39m=\u001b[39m op(lvalues, rvalues)\n",
      "\u001b[1;31mValueError\u001b[0m: ('Lengths must match to compare', (9955,), (201,))"
     ]
    }
   ],
   "source": []
  },
  {
   "cell_type": "code",
   "execution_count": null,
   "metadata": {},
   "outputs": [],
   "source": []
  }
 ],
 "metadata": {
  "interpreter": {
   "hash": "7d197a902866da8089b6dfdc2d70f9a756ced677ffc53ca526e6de3f208317f0"
  },
  "kernelspec": {
   "display_name": "Python 3.10.4 ('venv': venv)",
   "language": "python",
   "name": "python3"
  },
  "language_info": {
   "codemirror_mode": {
    "name": "ipython",
    "version": 3
   },
   "file_extension": ".py",
   "mimetype": "text/x-python",
   "name": "python",
   "nbconvert_exporter": "python",
   "pygments_lexer": "ipython3",
   "version": "3.10.4"
  },
  "orig_nbformat": 4
 },
 "nbformat": 4,
 "nbformat_minor": 2
}
