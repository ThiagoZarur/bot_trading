{
 "cells": [
  {
   "cell_type": "code",
   "execution_count": 31,
   "metadata": {},
   "outputs": [],
   "source": [
    "import backtrader as bt\n",
    "import backtrader.feed as btfeeds\n",
    "import pandas as pd\n",
    "import ccxt\n",
    "from binance.client import Client\n",
    "import numpy as np\n",
    "\n",
    "API_KEY = 'O8X3LMqT928iS3jAV1EwM2uwSedUkWEigt2TELCUJUfdhKT3zWVgxExAWCJrUKe5'\n",
    "API_SECRET = 'eNQIdMOA9FieSiQh1jK2JSwK9tNERiSpVNRLQoKC6a1vqqmwG2JNMgbUs69O4IhE'\n",
    "client = Client(API_KEY,API_SECRET)"
   ]
  },
  {
   "cell_type": "code",
   "execution_count": 30,
   "metadata": {},
   "outputs": [
    {
     "ename": "TypeError",
     "evalue": "PandasData.__init__() got an unexpected keyword argument 'dataname'",
     "output_type": "error",
     "traceback": [
      "\u001b[1;31m---------------------------------------------------------------------------\u001b[0m",
      "\u001b[1;31mTypeError\u001b[0m                                 Traceback (most recent call last)",
      "\u001b[1;32mc:\\Users\\MI PC\\Documents\\Coding\\bot_crypto_laws\\simple_ma2.ipynb Cell 2'\u001b[0m in \u001b[0;36m<cell line: 1>\u001b[1;34m()\u001b[0m\n\u001b[0;32m     <a href='vscode-notebook-cell:/c%3A/Users/MI%20PC/Documents/Coding/bot_crypto_laws/simple_ma2.ipynb#ch0000001?line=15'>16</a>\u001b[0m clean_df[\u001b[39m'\u001b[39m\u001b[39mClose\u001b[39m\u001b[39m'\u001b[39m] \u001b[39m=\u001b[39m pd\u001b[39m.\u001b[39mto_numeric(clean_df[\u001b[39m'\u001b[39m\u001b[39mClose\u001b[39m\u001b[39m'\u001b[39m])\n\u001b[0;32m     <a href='vscode-notebook-cell:/c%3A/Users/MI%20PC/Documents/Coding/bot_crypto_laws/simple_ma2.ipynb#ch0000001?line=16'>17</a>\u001b[0m clean_df[\u001b[39m'\u001b[39m\u001b[39mVolume\u001b[39m\u001b[39m'\u001b[39m] \u001b[39m=\u001b[39m pd\u001b[39m.\u001b[39mto_numeric(clean_df[\u001b[39m'\u001b[39m\u001b[39mVolume\u001b[39m\u001b[39m'\u001b[39m])\n\u001b[1;32m---> <a href='vscode-notebook-cell:/c%3A/Users/MI%20PC/Documents/Coding/bot_crypto_laws/simple_ma2.ipynb#ch0000001?line=18'>19</a>\u001b[0m data \u001b[39m=\u001b[39m bt\u001b[39m.\u001b[39;49mfeeds\u001b[39m.\u001b[39;49mPandasData\u001b[39m.\u001b[39;49m\u001b[39m__init__\u001b[39;49m(dataname\u001b[39m=\u001b[39;49m\u001b[39m'\u001b[39;49m\u001b[39mclean_df\u001b[39;49m\u001b[39m'\u001b[39;49m,\n\u001b[0;32m     <a href='vscode-notebook-cell:/c%3A/Users/MI%20PC/Documents/Coding/bot_crypto_laws/simple_ma2.ipynb#ch0000001?line=19'>20</a>\u001b[0m name \u001b[39m=\u001b[39;49m \u001b[39m'\u001b[39;49m\u001b[39mETH/USDT 4H\u001b[39;49m\u001b[39m'\u001b[39;49m,\n\u001b[0;32m     <a href='vscode-notebook-cell:/c%3A/Users/MI%20PC/Documents/Coding/bot_crypto_laws/simple_ma2.ipynb#ch0000001?line=20'>21</a>\u001b[0m timeframe \u001b[39m=\u001b[39;49m bt\u001b[39m.\u001b[39;49mTimeFrame\u001b[39m.\u001b[39;49mDays,\n\u001b[0;32m     <a href='vscode-notebook-cell:/c%3A/Users/MI%20PC/Documents/Coding/bot_crypto_laws/simple_ma2.ipynb#ch0000001?line=21'>22</a>\u001b[0m compression \u001b[39m=\u001b[39;49m \u001b[39m4\u001b[39;49m,\n\u001b[0;32m     <a href='vscode-notebook-cell:/c%3A/Users/MI%20PC/Documents/Coding/bot_crypto_laws/simple_ma2.ipynb#ch0000001?line=22'>23</a>\u001b[0m datetime \u001b[39m=\u001b[39;49m \u001b[39m0\u001b[39;49m,\n\u001b[0;32m     <a href='vscode-notebook-cell:/c%3A/Users/MI%20PC/Documents/Coding/bot_crypto_laws/simple_ma2.ipynb#ch0000001?line=23'>24</a>\u001b[0m \u001b[39mopen\u001b[39;49m \u001b[39m=\u001b[39;49m \u001b[39m1\u001b[39;49m,\n\u001b[0;32m     <a href='vscode-notebook-cell:/c%3A/Users/MI%20PC/Documents/Coding/bot_crypto_laws/simple_ma2.ipynb#ch0000001?line=24'>25</a>\u001b[0m high \u001b[39m=\u001b[39;49m \u001b[39m2\u001b[39;49m,\n\u001b[0;32m     <a href='vscode-notebook-cell:/c%3A/Users/MI%20PC/Documents/Coding/bot_crypto_laws/simple_ma2.ipynb#ch0000001?line=25'>26</a>\u001b[0m low \u001b[39m=\u001b[39;49m \u001b[39m3\u001b[39;49m,\n\u001b[0;32m     <a href='vscode-notebook-cell:/c%3A/Users/MI%20PC/Documents/Coding/bot_crypto_laws/simple_ma2.ipynb#ch0000001?line=26'>27</a>\u001b[0m close \u001b[39m=\u001b[39;49m \u001b[39m4\u001b[39;49m,\n\u001b[0;32m     <a href='vscode-notebook-cell:/c%3A/Users/MI%20PC/Documents/Coding/bot_crypto_laws/simple_ma2.ipynb#ch0000001?line=27'>28</a>\u001b[0m volume \u001b[39m=\u001b[39;49m \u001b[39m5\u001b[39;49m,\n\u001b[0;32m     <a href='vscode-notebook-cell:/c%3A/Users/MI%20PC/Documents/Coding/bot_crypto_laws/simple_ma2.ipynb#ch0000001?line=28'>29</a>\u001b[0m openinterest \u001b[39m=\u001b[39;49m \u001b[39m-\u001b[39;49m\u001b[39m1\u001b[39;49m,\n\u001b[0;32m     <a href='vscode-notebook-cell:/c%3A/Users/MI%20PC/Documents/Coding/bot_crypto_laws/simple_ma2.ipynb#ch0000001?line=29'>30</a>\u001b[0m dtformat \u001b[39m=\u001b[39;49m \u001b[39m'\u001b[39;49m\u001b[39m%\u001b[39;49m\u001b[39mY-\u001b[39;49m\u001b[39m%\u001b[39;49m\u001b[39mm-\u001b[39;49m\u001b[39m%d\u001b[39;49;00m\u001b[39m \u001b[39;49m\u001b[39m%\u001b[39;49m\u001b[39mH:\u001b[39;49m\u001b[39m%\u001b[39;49m\u001b[39mM:\u001b[39;49m\u001b[39m%\u001b[39;49m\u001b[39mS\u001b[39;49m\u001b[39m'\u001b[39;49m)\n\u001b[0;32m     <a href='vscode-notebook-cell:/c%3A/Users/MI%20PC/Documents/Coding/bot_crypto_laws/simple_ma2.ipynb#ch0000001?line=31'>32</a>\u001b[0m cerebro\u001b[39m.\u001b[39madddata(data)\n\u001b[0;32m     <a href='vscode-notebook-cell:/c%3A/Users/MI%20PC/Documents/Coding/bot_crypto_laws/simple_ma2.ipynb#ch0000001?line=32'>33</a>\u001b[0m cerebro\u001b[39m.\u001b[39mbroker\u001b[39m.\u001b[39msetcash(\u001b[39m1000000.0\u001b[39m)\n",
      "\u001b[1;31mTypeError\u001b[0m: PandasData.__init__() got an unexpected keyword argument 'dataname'"
     ]
    }
   ],
   "source": [
    "if __name__ == '__main__':\n",
    "    #Creating a cerebro entity\n",
    "    cerebro = bt.Cerebro()\n",
    "\n",
    "    #Creating DataFrame using Binance, data of BTC/USDT\n",
    "    symbol = 'ETH/USDT'\n",
    "    timeframe = '4H'\n",
    "    ohlcv = client.get_historical_klines('ETHUSDT',Client.KLINE_INTERVAL_4HOUR,'13 Aug, 2017','25 Apr, 2022')\n",
    "    to_df = pd.DataFrame(ohlcv)\n",
    "    clean_df = to_df.drop(columns=[6,7,8,9,10,11])\n",
    "    clean_df.columns = ['Date','Open','High','Low','Close','Volume']\n",
    "    clean_df['Date'] = pd.to_numeric(clean_df['Date'])\n",
    "    clean_df['Open'] = pd.to_numeric(clean_df['Open'])\n",
    "    clean_df['High'] = pd.to_numeric(clean_df['High'])\n",
    "    clean_df['Low'] = pd.to_numeric(clean_df['Low'])\n",
    "    clean_df['Close'] = pd.to_numeric(clean_df['Close'])\n",
    "    clean_df['Volume'] = pd.to_numeric(clean_df['Volume'])\n",
    "    \n",
    "    data = bt.feeds.PandasData.__init__(dataname='clean_df',\n",
    "    name = 'ETH/USDT 4H',\n",
    "    timeframe = bt.TimeFrame.Days,\n",
    "    compression = 4,\n",
    "    datetime = 0,\n",
    "    open = 1,\n",
    "    high = 2,\n",
    "    low = 3,\n",
    "    close = 4,\n",
    "    volume = 5,\n",
    "    openinterest = -1,\n",
    "    dtformat = '%Y-%m-%d %H:%M:%S')\n",
    "\n",
    "    cerebro.adddata(data)\n",
    "    cerebro.broker.setcash(1000000.0)\n",
    "\n",
    "    print('Starting portafolio Value: %.2f'% cerebro.broker.getvalue())\n",
    "    \n",
    "    cerebro.run()\n",
    "    \n",
    "    print('Final portafolio Value: %.2f'% cerebro.broker.getvalue())\n"
   ]
  },
  {
   "cell_type": "code",
   "execution_count": 39,
   "metadata": {},
   "outputs": [],
   "source": [
    "clean_df.to_csv('C:/Users/MI PC/Documents/Coding/bot_crypto_laws/eth4h.csv',index=False,header=True)"
   ]
  },
  {
   "cell_type": "code",
   "execution_count": null,
   "metadata": {},
   "outputs": [],
   "source": []
  }
 ],
 "metadata": {
  "interpreter": {
   "hash": "7d197a902866da8089b6dfdc2d70f9a756ced677ffc53ca526e6de3f208317f0"
  },
  "kernelspec": {
   "display_name": "Python 3.10.4 ('venv': venv)",
   "language": "python",
   "name": "python3"
  },
  "language_info": {
   "codemirror_mode": {
    "name": "ipython",
    "version": 3
   },
   "file_extension": ".py",
   "mimetype": "text/x-python",
   "name": "python",
   "nbconvert_exporter": "python",
   "pygments_lexer": "ipython3",
   "version": "3.10.4"
  },
  "orig_nbformat": 4
 },
 "nbformat": 4,
 "nbformat_minor": 2
}
